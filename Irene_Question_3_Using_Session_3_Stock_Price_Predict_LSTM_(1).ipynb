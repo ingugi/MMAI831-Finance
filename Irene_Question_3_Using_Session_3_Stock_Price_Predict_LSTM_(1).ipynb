{
  "cells": [
    {
      "cell_type": "markdown",
      "metadata": {
        "id": "view-in-github",
        "colab_type": "text"
      },
      "source": [
        "<a href=\"https://colab.research.google.com/github/ingugi/MMAI831-Finance/blob/main/Irene_Question_3_Using_Session_3_Stock_Price_Predict_LSTM_(1).ipynb\" target=\"_parent\"><img src=\"https://colab.research.google.com/assets/colab-badge.svg\" alt=\"Open In Colab\"/></a>"
      ]
    },
    {
      "cell_type": "markdown",
      "id": "9b0f40ad",
      "metadata": {
        "id": "9b0f40ad"
      },
      "source": [
        "# Can We Predict the Stock Price Movement in the Future?\n",
        "YOu can read the article explaining how LSTM works [here](https://web.stanford.edu/class/cs379c/archive/2018/class_messages_listing/content/Artificial_Neural_Network_Technology_Tutorials/OlahLSTM-NEURAL-NETWORK-TUTORIAL-15.pdf)\n",
        "\n",
        "## Is the stock a random walk?"
      ]
    },
    {
      "cell_type": "markdown",
      "id": "f10e89e0",
      "metadata": {
        "id": "f10e89e0"
      },
      "source": [
        "## Long Short Term Memory \n",
        "\n"
      ]
    },
    {
      "cell_type": "markdown",
      "id": "4656e33e",
      "metadata": {
        "id": "4656e33e"
      },
      "source": [
        "1. Import the libraries"
      ]
    },
    {
      "cell_type": "code",
      "execution_count": 1,
      "id": "db4c5bc3",
      "metadata": {
        "id": "db4c5bc3"
      },
      "outputs": [],
      "source": [
        "import numpy as np\n",
        "import pandas as pd\n",
        "import matplotlib.pyplot as plt\n",
        "\n",
        "import math\n",
        "\n",
        "import pandas_datareader as web\n",
        "from sklearn.preprocessing import MinMaxScaler\n",
        "from keras.models import Sequential\n",
        "from keras.layers import Dense, LSTM\n"
      ]
    },
    {
      "cell_type": "markdown",
      "id": "c9e5e775",
      "metadata": {
        "id": "c9e5e775"
      },
      "source": [
        "2. Download the data from yahoo. We use ANZN"
      ]
    },
    {
      "cell_type": "code",
      "source": [
        "import importlib.util\n",
        "package_name = 'yfinance'\n",
        "spec = importlib.util.find_spec(package_name)\n",
        "if spec is None:\n",
        "    print(package_name +\" is not installed\")\n",
        "    !pip install yfinance\n",
        "\n",
        "import yfinance as yf\n",
        "df=yf.download(['AMZN', 'GOOG'], start='2012-01-01', end='2023-02-10')\n",
        "\n",
        "df"
      ],
      "metadata": {
        "colab": {
          "base_uri": "https://localhost:8080/",
          "height": 742
        },
        "id": "Am_M8Sa8V3tN",
        "outputId": "bff61fe1-ccf5-48d8-9532-33c251e496d7"
      },
      "id": "Am_M8Sa8V3tN",
      "execution_count": 2,
      "outputs": [
        {
          "output_type": "stream",
          "name": "stdout",
          "text": [
            "\r[                       0%                       ]\r[*********************100%***********************]  2 of 2 completed\n"
          ]
        },
        {
          "output_type": "execute_result",
          "data": {
            "text/plain": [
              "             Adj Close                   Close                    High  \\\n",
              "                  AMZN        GOOG        AMZN        GOOG        AMZN   \n",
              "Date                                                                     \n",
              "2012-01-03    8.951500   16.573130    8.951500   16.573130    8.974000   \n",
              "2012-01-04    8.875500   16.644611    8.875500   16.644611    9.025000   \n",
              "2012-01-05    8.880500   16.413727    8.880500   16.413727    8.912500   \n",
              "2012-01-06    9.130500   16.189817    9.130500   16.189817    9.232500   \n",
              "2012-01-09    8.928000   15.503389    8.928000   15.503389    9.218500   \n",
              "...                ...         ...         ...         ...         ...   \n",
              "2023-02-03  103.389999  105.220001  103.389999  105.220001  108.779999   \n",
              "2023-02-06  102.180000  103.470001  102.180000  103.470001  103.949997   \n",
              "2023-02-07  102.110001  108.040001  102.110001  108.040001  102.410004   \n",
              "2023-02-08  100.050003  100.000000  100.050003  100.000000  102.669998   \n",
              "2023-02-09   98.239998   95.459999   98.239998   95.459999  101.779999   \n",
              "\n",
              "                               Low                    Open              \\\n",
              "                  GOOG        AMZN        GOOG        AMZN        GOOG   \n",
              "Date                                                                     \n",
              "2012-01-03   16.641375    8.777500   16.248346    8.794500   16.262545   \n",
              "2012-01-04   16.693678    8.803500   16.453827    8.960500   16.563665   \n",
              "2012-01-05   16.537264    8.702500   16.344486    8.797000   16.491436   \n",
              "2012-01-06   16.438385    8.875000   16.184088    8.903500   16.417213   \n",
              "2012-01-09   16.114599    8.850000   15.472754    9.138000   16.102144   \n",
              "...                ...         ...         ...         ...         ...   \n",
              "2023-02-03  108.019997  102.519997  103.300003  105.260002  103.510002   \n",
              "2023-02-06  104.699997  100.650002  102.209999  102.930000  102.684998   \n",
              "2023-02-07  108.669998   98.080002  103.547997  101.169998  103.629997   \n",
              "2023-02-08  103.580002   98.779999   98.455002  102.040001  102.690002   \n",
              "2023-02-09  100.610001   97.570000   93.860001  101.320000  100.540001   \n",
              "\n",
              "               Volume             \n",
              "                 AMZN       GOOG  \n",
              "Date                              \n",
              "2012-01-03  102216000  147611217  \n",
              "2012-01-04   84104000  114989399  \n",
              "2012-01-05   76182000  131808205  \n",
              "2012-01-06  140168000  108119746  \n",
              "2012-01-09  101138000  233776981  \n",
              "...               ...        ...  \n",
              "2023-02-03  144374800   36823400  \n",
              "2023-02-06   81945200   25573000  \n",
              "2023-02-07  119501300   33738800  \n",
              "2023-02-08   75878300   73546000  \n",
              "2023-02-09   64622500   97798600  \n",
              "\n",
              "[2795 rows x 12 columns]"
            ],
            "text/html": [
              "\n",
              "  <div id=\"df-4fdb5488-df3f-45ec-8758-3a025d427ac2\">\n",
              "    <div class=\"colab-df-container\">\n",
              "      <div>\n",
              "<style scoped>\n",
              "    .dataframe tbody tr th:only-of-type {\n",
              "        vertical-align: middle;\n",
              "    }\n",
              "\n",
              "    .dataframe tbody tr th {\n",
              "        vertical-align: top;\n",
              "    }\n",
              "\n",
              "    .dataframe thead tr th {\n",
              "        text-align: left;\n",
              "    }\n",
              "\n",
              "    .dataframe thead tr:last-of-type th {\n",
              "        text-align: right;\n",
              "    }\n",
              "</style>\n",
              "<table border=\"1\" class=\"dataframe\">\n",
              "  <thead>\n",
              "    <tr>\n",
              "      <th></th>\n",
              "      <th colspan=\"2\" halign=\"left\">Adj Close</th>\n",
              "      <th colspan=\"2\" halign=\"left\">Close</th>\n",
              "      <th colspan=\"2\" halign=\"left\">High</th>\n",
              "      <th colspan=\"2\" halign=\"left\">Low</th>\n",
              "      <th colspan=\"2\" halign=\"left\">Open</th>\n",
              "      <th colspan=\"2\" halign=\"left\">Volume</th>\n",
              "    </tr>\n",
              "    <tr>\n",
              "      <th></th>\n",
              "      <th>AMZN</th>\n",
              "      <th>GOOG</th>\n",
              "      <th>AMZN</th>\n",
              "      <th>GOOG</th>\n",
              "      <th>AMZN</th>\n",
              "      <th>GOOG</th>\n",
              "      <th>AMZN</th>\n",
              "      <th>GOOG</th>\n",
              "      <th>AMZN</th>\n",
              "      <th>GOOG</th>\n",
              "      <th>AMZN</th>\n",
              "      <th>GOOG</th>\n",
              "    </tr>\n",
              "    <tr>\n",
              "      <th>Date</th>\n",
              "      <th></th>\n",
              "      <th></th>\n",
              "      <th></th>\n",
              "      <th></th>\n",
              "      <th></th>\n",
              "      <th></th>\n",
              "      <th></th>\n",
              "      <th></th>\n",
              "      <th></th>\n",
              "      <th></th>\n",
              "      <th></th>\n",
              "      <th></th>\n",
              "    </tr>\n",
              "  </thead>\n",
              "  <tbody>\n",
              "    <tr>\n",
              "      <th>2012-01-03</th>\n",
              "      <td>8.951500</td>\n",
              "      <td>16.573130</td>\n",
              "      <td>8.951500</td>\n",
              "      <td>16.573130</td>\n",
              "      <td>8.974000</td>\n",
              "      <td>16.641375</td>\n",
              "      <td>8.777500</td>\n",
              "      <td>16.248346</td>\n",
              "      <td>8.794500</td>\n",
              "      <td>16.262545</td>\n",
              "      <td>102216000</td>\n",
              "      <td>147611217</td>\n",
              "    </tr>\n",
              "    <tr>\n",
              "      <th>2012-01-04</th>\n",
              "      <td>8.875500</td>\n",
              "      <td>16.644611</td>\n",
              "      <td>8.875500</td>\n",
              "      <td>16.644611</td>\n",
              "      <td>9.025000</td>\n",
              "      <td>16.693678</td>\n",
              "      <td>8.803500</td>\n",
              "      <td>16.453827</td>\n",
              "      <td>8.960500</td>\n",
              "      <td>16.563665</td>\n",
              "      <td>84104000</td>\n",
              "      <td>114989399</td>\n",
              "    </tr>\n",
              "    <tr>\n",
              "      <th>2012-01-05</th>\n",
              "      <td>8.880500</td>\n",
              "      <td>16.413727</td>\n",
              "      <td>8.880500</td>\n",
              "      <td>16.413727</td>\n",
              "      <td>8.912500</td>\n",
              "      <td>16.537264</td>\n",
              "      <td>8.702500</td>\n",
              "      <td>16.344486</td>\n",
              "      <td>8.797000</td>\n",
              "      <td>16.491436</td>\n",
              "      <td>76182000</td>\n",
              "      <td>131808205</td>\n",
              "    </tr>\n",
              "    <tr>\n",
              "      <th>2012-01-06</th>\n",
              "      <td>9.130500</td>\n",
              "      <td>16.189817</td>\n",
              "      <td>9.130500</td>\n",
              "      <td>16.189817</td>\n",
              "      <td>9.232500</td>\n",
              "      <td>16.438385</td>\n",
              "      <td>8.875000</td>\n",
              "      <td>16.184088</td>\n",
              "      <td>8.903500</td>\n",
              "      <td>16.417213</td>\n",
              "      <td>140168000</td>\n",
              "      <td>108119746</td>\n",
              "    </tr>\n",
              "    <tr>\n",
              "      <th>2012-01-09</th>\n",
              "      <td>8.928000</td>\n",
              "      <td>15.503389</td>\n",
              "      <td>8.928000</td>\n",
              "      <td>15.503389</td>\n",
              "      <td>9.218500</td>\n",
              "      <td>16.114599</td>\n",
              "      <td>8.850000</td>\n",
              "      <td>15.472754</td>\n",
              "      <td>9.138000</td>\n",
              "      <td>16.102144</td>\n",
              "      <td>101138000</td>\n",
              "      <td>233776981</td>\n",
              "    </tr>\n",
              "    <tr>\n",
              "      <th>...</th>\n",
              "      <td>...</td>\n",
              "      <td>...</td>\n",
              "      <td>...</td>\n",
              "      <td>...</td>\n",
              "      <td>...</td>\n",
              "      <td>...</td>\n",
              "      <td>...</td>\n",
              "      <td>...</td>\n",
              "      <td>...</td>\n",
              "      <td>...</td>\n",
              "      <td>...</td>\n",
              "      <td>...</td>\n",
              "    </tr>\n",
              "    <tr>\n",
              "      <th>2023-02-03</th>\n",
              "      <td>103.389999</td>\n",
              "      <td>105.220001</td>\n",
              "      <td>103.389999</td>\n",
              "      <td>105.220001</td>\n",
              "      <td>108.779999</td>\n",
              "      <td>108.019997</td>\n",
              "      <td>102.519997</td>\n",
              "      <td>103.300003</td>\n",
              "      <td>105.260002</td>\n",
              "      <td>103.510002</td>\n",
              "      <td>144374800</td>\n",
              "      <td>36823400</td>\n",
              "    </tr>\n",
              "    <tr>\n",
              "      <th>2023-02-06</th>\n",
              "      <td>102.180000</td>\n",
              "      <td>103.470001</td>\n",
              "      <td>102.180000</td>\n",
              "      <td>103.470001</td>\n",
              "      <td>103.949997</td>\n",
              "      <td>104.699997</td>\n",
              "      <td>100.650002</td>\n",
              "      <td>102.209999</td>\n",
              "      <td>102.930000</td>\n",
              "      <td>102.684998</td>\n",
              "      <td>81945200</td>\n",
              "      <td>25573000</td>\n",
              "    </tr>\n",
              "    <tr>\n",
              "      <th>2023-02-07</th>\n",
              "      <td>102.110001</td>\n",
              "      <td>108.040001</td>\n",
              "      <td>102.110001</td>\n",
              "      <td>108.040001</td>\n",
              "      <td>102.410004</td>\n",
              "      <td>108.669998</td>\n",
              "      <td>98.080002</td>\n",
              "      <td>103.547997</td>\n",
              "      <td>101.169998</td>\n",
              "      <td>103.629997</td>\n",
              "      <td>119501300</td>\n",
              "      <td>33738800</td>\n",
              "    </tr>\n",
              "    <tr>\n",
              "      <th>2023-02-08</th>\n",
              "      <td>100.050003</td>\n",
              "      <td>100.000000</td>\n",
              "      <td>100.050003</td>\n",
              "      <td>100.000000</td>\n",
              "      <td>102.669998</td>\n",
              "      <td>103.580002</td>\n",
              "      <td>98.779999</td>\n",
              "      <td>98.455002</td>\n",
              "      <td>102.040001</td>\n",
              "      <td>102.690002</td>\n",
              "      <td>75878300</td>\n",
              "      <td>73546000</td>\n",
              "    </tr>\n",
              "    <tr>\n",
              "      <th>2023-02-09</th>\n",
              "      <td>98.239998</td>\n",
              "      <td>95.459999</td>\n",
              "      <td>98.239998</td>\n",
              "      <td>95.459999</td>\n",
              "      <td>101.779999</td>\n",
              "      <td>100.610001</td>\n",
              "      <td>97.570000</td>\n",
              "      <td>93.860001</td>\n",
              "      <td>101.320000</td>\n",
              "      <td>100.540001</td>\n",
              "      <td>64622500</td>\n",
              "      <td>97798600</td>\n",
              "    </tr>\n",
              "  </tbody>\n",
              "</table>\n",
              "<p>2795 rows × 12 columns</p>\n",
              "</div>\n",
              "      <button class=\"colab-df-convert\" onclick=\"convertToInteractive('df-4fdb5488-df3f-45ec-8758-3a025d427ac2')\"\n",
              "              title=\"Convert this dataframe to an interactive table.\"\n",
              "              style=\"display:none;\">\n",
              "        \n",
              "  <svg xmlns=\"http://www.w3.org/2000/svg\" height=\"24px\"viewBox=\"0 0 24 24\"\n",
              "       width=\"24px\">\n",
              "    <path d=\"M0 0h24v24H0V0z\" fill=\"none\"/>\n",
              "    <path d=\"M18.56 5.44l.94 2.06.94-2.06 2.06-.94-2.06-.94-.94-2.06-.94 2.06-2.06.94zm-11 1L8.5 8.5l.94-2.06 2.06-.94-2.06-.94L8.5 2.5l-.94 2.06-2.06.94zm10 10l.94 2.06.94-2.06 2.06-.94-2.06-.94-.94-2.06-.94 2.06-2.06.94z\"/><path d=\"M17.41 7.96l-1.37-1.37c-.4-.4-.92-.59-1.43-.59-.52 0-1.04.2-1.43.59L10.3 9.45l-7.72 7.72c-.78.78-.78 2.05 0 2.83L4 21.41c.39.39.9.59 1.41.59.51 0 1.02-.2 1.41-.59l7.78-7.78 2.81-2.81c.8-.78.8-2.07 0-2.86zM5.41 20L4 18.59l7.72-7.72 1.47 1.35L5.41 20z\"/>\n",
              "  </svg>\n",
              "      </button>\n",
              "      \n",
              "  <style>\n",
              "    .colab-df-container {\n",
              "      display:flex;\n",
              "      flex-wrap:wrap;\n",
              "      gap: 12px;\n",
              "    }\n",
              "\n",
              "    .colab-df-convert {\n",
              "      background-color: #E8F0FE;\n",
              "      border: none;\n",
              "      border-radius: 50%;\n",
              "      cursor: pointer;\n",
              "      display: none;\n",
              "      fill: #1967D2;\n",
              "      height: 32px;\n",
              "      padding: 0 0 0 0;\n",
              "      width: 32px;\n",
              "    }\n",
              "\n",
              "    .colab-df-convert:hover {\n",
              "      background-color: #E2EBFA;\n",
              "      box-shadow: 0px 1px 2px rgba(60, 64, 67, 0.3), 0px 1px 3px 1px rgba(60, 64, 67, 0.15);\n",
              "      fill: #174EA6;\n",
              "    }\n",
              "\n",
              "    [theme=dark] .colab-df-convert {\n",
              "      background-color: #3B4455;\n",
              "      fill: #D2E3FC;\n",
              "    }\n",
              "\n",
              "    [theme=dark] .colab-df-convert:hover {\n",
              "      background-color: #434B5C;\n",
              "      box-shadow: 0px 1px 3px 1px rgba(0, 0, 0, 0.15);\n",
              "      filter: drop-shadow(0px 1px 2px rgba(0, 0, 0, 0.3));\n",
              "      fill: #FFFFFF;\n",
              "    }\n",
              "  </style>\n",
              "\n",
              "      <script>\n",
              "        const buttonEl =\n",
              "          document.querySelector('#df-4fdb5488-df3f-45ec-8758-3a025d427ac2 button.colab-df-convert');\n",
              "        buttonEl.style.display =\n",
              "          google.colab.kernel.accessAllowed ? 'block' : 'none';\n",
              "\n",
              "        async function convertToInteractive(key) {\n",
              "          const element = document.querySelector('#df-4fdb5488-df3f-45ec-8758-3a025d427ac2');\n",
              "          const dataTable =\n",
              "            await google.colab.kernel.invokeFunction('convertToInteractive',\n",
              "                                                     [key], {});\n",
              "          if (!dataTable) return;\n",
              "\n",
              "          const docLinkHtml = 'Like what you see? Visit the ' +\n",
              "            '<a target=\"_blank\" href=https://colab.research.google.com/notebooks/data_table.ipynb>data table notebook</a>'\n",
              "            + ' to learn more about interactive tables.';\n",
              "          element.innerHTML = '';\n",
              "          dataTable['output_type'] = 'display_data';\n",
              "          await google.colab.output.renderOutput(dataTable, element);\n",
              "          const docLink = document.createElement('div');\n",
              "          docLink.innerHTML = docLinkHtml;\n",
              "          element.appendChild(docLink);\n",
              "        }\n",
              "      </script>\n",
              "    </div>\n",
              "  </div>\n",
              "  "
            ]
          },
          "metadata": {},
          "execution_count": 2
        }
      ]
    },
    {
      "cell_type": "code",
      "execution_count": 3,
      "id": "43749d68",
      "metadata": {
        "id": "43749d68",
        "colab": {
          "base_uri": "https://localhost:8080/"
        },
        "outputId": "d2fb81d6-38df-40b5-9967-6e17a089fbda"
      },
      "outputs": [
        {
          "output_type": "execute_result",
          "data": {
            "text/plain": [
              "(2795, 12)"
            ]
          },
          "metadata": {},
          "execution_count": 3
        }
      ],
      "source": [
        "df.shape"
      ]
    },
    {
      "cell_type": "markdown",
      "id": "bacd0dd2",
      "metadata": {
        "id": "bacd0dd2"
      },
      "source": [
        "3. Visualize"
      ]
    },
    {
      "cell_type": "code",
      "source": [
        "df['Close'].tail(10)"
      ],
      "metadata": {
        "colab": {
          "base_uri": "https://localhost:8080/",
          "height": 394
        },
        "id": "iEJNYO1IW20S",
        "outputId": "fe5a890e-4ae7-4657-d98a-0196a637bece"
      },
      "id": "iEJNYO1IW20S",
      "execution_count": 4,
      "outputs": [
        {
          "output_type": "execute_result",
          "data": {
            "text/plain": [
              "                  AMZN        GOOG\n",
              "Date                              \n",
              "2023-01-27  102.239998  100.709999\n",
              "2023-01-30  100.550003   97.949997\n",
              "2023-01-31  103.129997   99.870003\n",
              "2023-02-01  105.150002  101.430000\n",
              "2023-02-02  112.910004  108.800003\n",
              "2023-02-03  103.389999  105.220001\n",
              "2023-02-06  102.180000  103.470001\n",
              "2023-02-07  102.110001  108.040001\n",
              "2023-02-08  100.050003  100.000000\n",
              "2023-02-09   98.239998   95.459999"
            ],
            "text/html": [
              "\n",
              "  <div id=\"df-bcab45d4-3369-41be-a595-02c15b126ef9\">\n",
              "    <div class=\"colab-df-container\">\n",
              "      <div>\n",
              "<style scoped>\n",
              "    .dataframe tbody tr th:only-of-type {\n",
              "        vertical-align: middle;\n",
              "    }\n",
              "\n",
              "    .dataframe tbody tr th {\n",
              "        vertical-align: top;\n",
              "    }\n",
              "\n",
              "    .dataframe thead th {\n",
              "        text-align: right;\n",
              "    }\n",
              "</style>\n",
              "<table border=\"1\" class=\"dataframe\">\n",
              "  <thead>\n",
              "    <tr style=\"text-align: right;\">\n",
              "      <th></th>\n",
              "      <th>AMZN</th>\n",
              "      <th>GOOG</th>\n",
              "    </tr>\n",
              "    <tr>\n",
              "      <th>Date</th>\n",
              "      <th></th>\n",
              "      <th></th>\n",
              "    </tr>\n",
              "  </thead>\n",
              "  <tbody>\n",
              "    <tr>\n",
              "      <th>2023-01-27</th>\n",
              "      <td>102.239998</td>\n",
              "      <td>100.709999</td>\n",
              "    </tr>\n",
              "    <tr>\n",
              "      <th>2023-01-30</th>\n",
              "      <td>100.550003</td>\n",
              "      <td>97.949997</td>\n",
              "    </tr>\n",
              "    <tr>\n",
              "      <th>2023-01-31</th>\n",
              "      <td>103.129997</td>\n",
              "      <td>99.870003</td>\n",
              "    </tr>\n",
              "    <tr>\n",
              "      <th>2023-02-01</th>\n",
              "      <td>105.150002</td>\n",
              "      <td>101.430000</td>\n",
              "    </tr>\n",
              "    <tr>\n",
              "      <th>2023-02-02</th>\n",
              "      <td>112.910004</td>\n",
              "      <td>108.800003</td>\n",
              "    </tr>\n",
              "    <tr>\n",
              "      <th>2023-02-03</th>\n",
              "      <td>103.389999</td>\n",
              "      <td>105.220001</td>\n",
              "    </tr>\n",
              "    <tr>\n",
              "      <th>2023-02-06</th>\n",
              "      <td>102.180000</td>\n",
              "      <td>103.470001</td>\n",
              "    </tr>\n",
              "    <tr>\n",
              "      <th>2023-02-07</th>\n",
              "      <td>102.110001</td>\n",
              "      <td>108.040001</td>\n",
              "    </tr>\n",
              "    <tr>\n",
              "      <th>2023-02-08</th>\n",
              "      <td>100.050003</td>\n",
              "      <td>100.000000</td>\n",
              "    </tr>\n",
              "    <tr>\n",
              "      <th>2023-02-09</th>\n",
              "      <td>98.239998</td>\n",
              "      <td>95.459999</td>\n",
              "    </tr>\n",
              "  </tbody>\n",
              "</table>\n",
              "</div>\n",
              "      <button class=\"colab-df-convert\" onclick=\"convertToInteractive('df-bcab45d4-3369-41be-a595-02c15b126ef9')\"\n",
              "              title=\"Convert this dataframe to an interactive table.\"\n",
              "              style=\"display:none;\">\n",
              "        \n",
              "  <svg xmlns=\"http://www.w3.org/2000/svg\" height=\"24px\"viewBox=\"0 0 24 24\"\n",
              "       width=\"24px\">\n",
              "    <path d=\"M0 0h24v24H0V0z\" fill=\"none\"/>\n",
              "    <path d=\"M18.56 5.44l.94 2.06.94-2.06 2.06-.94-2.06-.94-.94-2.06-.94 2.06-2.06.94zm-11 1L8.5 8.5l.94-2.06 2.06-.94-2.06-.94L8.5 2.5l-.94 2.06-2.06.94zm10 10l.94 2.06.94-2.06 2.06-.94-2.06-.94-.94-2.06-.94 2.06-2.06.94z\"/><path d=\"M17.41 7.96l-1.37-1.37c-.4-.4-.92-.59-1.43-.59-.52 0-1.04.2-1.43.59L10.3 9.45l-7.72 7.72c-.78.78-.78 2.05 0 2.83L4 21.41c.39.39.9.59 1.41.59.51 0 1.02-.2 1.41-.59l7.78-7.78 2.81-2.81c.8-.78.8-2.07 0-2.86zM5.41 20L4 18.59l7.72-7.72 1.47 1.35L5.41 20z\"/>\n",
              "  </svg>\n",
              "      </button>\n",
              "      \n",
              "  <style>\n",
              "    .colab-df-container {\n",
              "      display:flex;\n",
              "      flex-wrap:wrap;\n",
              "      gap: 12px;\n",
              "    }\n",
              "\n",
              "    .colab-df-convert {\n",
              "      background-color: #E8F0FE;\n",
              "      border: none;\n",
              "      border-radius: 50%;\n",
              "      cursor: pointer;\n",
              "      display: none;\n",
              "      fill: #1967D2;\n",
              "      height: 32px;\n",
              "      padding: 0 0 0 0;\n",
              "      width: 32px;\n",
              "    }\n",
              "\n",
              "    .colab-df-convert:hover {\n",
              "      background-color: #E2EBFA;\n",
              "      box-shadow: 0px 1px 2px rgba(60, 64, 67, 0.3), 0px 1px 3px 1px rgba(60, 64, 67, 0.15);\n",
              "      fill: #174EA6;\n",
              "    }\n",
              "\n",
              "    [theme=dark] .colab-df-convert {\n",
              "      background-color: #3B4455;\n",
              "      fill: #D2E3FC;\n",
              "    }\n",
              "\n",
              "    [theme=dark] .colab-df-convert:hover {\n",
              "      background-color: #434B5C;\n",
              "      box-shadow: 0px 1px 3px 1px rgba(0, 0, 0, 0.15);\n",
              "      filter: drop-shadow(0px 1px 2px rgba(0, 0, 0, 0.3));\n",
              "      fill: #FFFFFF;\n",
              "    }\n",
              "  </style>\n",
              "\n",
              "      <script>\n",
              "        const buttonEl =\n",
              "          document.querySelector('#df-bcab45d4-3369-41be-a595-02c15b126ef9 button.colab-df-convert');\n",
              "        buttonEl.style.display =\n",
              "          google.colab.kernel.accessAllowed ? 'block' : 'none';\n",
              "\n",
              "        async function convertToInteractive(key) {\n",
              "          const element = document.querySelector('#df-bcab45d4-3369-41be-a595-02c15b126ef9');\n",
              "          const dataTable =\n",
              "            await google.colab.kernel.invokeFunction('convertToInteractive',\n",
              "                                                     [key], {});\n",
              "          if (!dataTable) return;\n",
              "\n",
              "          const docLinkHtml = 'Like what you see? Visit the ' +\n",
              "            '<a target=\"_blank\" href=https://colab.research.google.com/notebooks/data_table.ipynb>data table notebook</a>'\n",
              "            + ' to learn more about interactive tables.';\n",
              "          element.innerHTML = '';\n",
              "          dataTable['output_type'] = 'display_data';\n",
              "          await google.colab.output.renderOutput(dataTable, element);\n",
              "          const docLink = document.createElement('div');\n",
              "          docLink.innerHTML = docLinkHtml;\n",
              "          element.appendChild(docLink);\n",
              "        }\n",
              "      </script>\n",
              "    </div>\n",
              "  </div>\n",
              "  "
            ]
          },
          "metadata": {},
          "execution_count": 4
        }
      ]
    },
    {
      "cell_type": "code",
      "execution_count": 5,
      "id": "eae6956a",
      "metadata": {
        "id": "eae6956a",
        "colab": {
          "base_uri": "https://localhost:8080/",
          "height": 736
        },
        "outputId": "2a30d7f5-c063-492c-c5c8-45ee0474e93d"
      },
      "outputs": [
        {
          "output_type": "execute_result",
          "data": {
            "text/plain": [
              "<matplotlib.legend.Legend at 0x7f21d9f74a30>"
            ]
          },
          "metadata": {},
          "execution_count": 5
        },
        {
          "output_type": "display_data",
          "data": {
            "text/plain": [
              "<Figure size 1200x800 with 1 Axes>"
            ],
            "image/png": "[encoded data removed]"
          },
          "metadata": {}
        }
      ],
      "source": [
        "plt.figure(figsize=(12,8))\n",
        "plt.title('Close Price History')\n",
        "plt.plot(df['Close'])\n",
        "plt.xlabel('Date')\n",
        "plt.ylabel('Stock Price ($)')\n",
        "plt.legend(['AMZN', 'GOOG'])"
      ]
    },
    {
      "cell_type": "code",
      "execution_count": 6,
      "id": "5a64595a",
      "metadata": {
        "id": "5a64595a",
        "colab": {
          "base_uri": "https://localhost:8080/",
          "height": 708
        },
        "outputId": "77ce4cb7-a4b2-4740-c4bf-d02d07ae92c1"
      },
      "outputs": [
        {
          "output_type": "execute_result",
          "data": {
            "text/plain": [
              "              AMZN       GOOG\n",
              "Date                         \n",
              "2012-01-03  8.9515  16.573130\n",
              "2012-01-04  8.8755  16.644611\n",
              "2012-01-05  8.8805  16.413727\n",
              "2012-01-06  9.1305  16.189817\n",
              "2012-01-09  8.9280  15.503389\n",
              "2012-01-10  8.9670  15.520326\n",
              "2012-01-11  8.9450  15.590563\n",
              "2012-01-12  8.7965  15.682219\n",
              "2012-01-13  8.9210  15.566403\n",
              "2012-01-17  9.0830  15.655818\n",
              "2012-01-18  9.4720  15.763664\n",
              "2012-01-19  9.7225  15.929542\n",
              "2012-01-20  9.5465  14.595044\n",
              "2012-01-23  9.3045  14.583338\n",
              "2012-01-24  9.3500  14.469017\n",
              "2012-01-25  9.3900  14.184085\n",
              "2012-01-26  9.6660  14.149464\n",
              "2012-01-27  9.7685  14.445355\n",
              "2012-01-30  9.6075  14.388319\n",
              "2012-01-31  9.7220  14.448593"
            ],
            "text/html": [
              "\n",
              "  <div id=\"df-ead4193f-daf7-46fc-b498-833004b949b9\">\n",
              "    <div class=\"colab-df-container\">\n",
              "      <div>\n",
              "<style scoped>\n",
              "    .dataframe tbody tr th:only-of-type {\n",
              "        vertical-align: middle;\n",
              "    }\n",
              "\n",
              "    .dataframe tbody tr th {\n",
              "        vertical-align: top;\n",
              "    }\n",
              "\n",
              "    .dataframe thead th {\n",
              "        text-align: right;\n",
              "    }\n",
              "</style>\n",
              "<table border=\"1\" class=\"dataframe\">\n",
              "  <thead>\n",
              "    <tr style=\"text-align: right;\">\n",
              "      <th></th>\n",
              "      <th>AMZN</th>\n",
              "      <th>GOOG</th>\n",
              "    </tr>\n",
              "    <tr>\n",
              "      <th>Date</th>\n",
              "      <th></th>\n",
              "      <th></th>\n",
              "    </tr>\n",
              "  </thead>\n",
              "  <tbody>\n",
              "    <tr>\n",
              "      <th>2012-01-03</th>\n",
              "      <td>8.9515</td>\n",
              "      <td>16.573130</td>\n",
              "    </tr>\n",
              "    <tr>\n",
              "      <th>2012-01-04</th>\n",
              "      <td>8.8755</td>\n",
              "      <td>16.644611</td>\n",
              "    </tr>\n",
              "    <tr>\n",
              "      <th>2012-01-05</th>\n",
              "      <td>8.8805</td>\n",
              "      <td>16.413727</td>\n",
              "    </tr>\n",
              "    <tr>\n",
              "      <th>2012-01-06</th>\n",
              "      <td>9.1305</td>\n",
              "      <td>16.189817</td>\n",
              "    </tr>\n",
              "    <tr>\n",
              "      <th>2012-01-09</th>\n",
              "      <td>8.9280</td>\n",
              "      <td>15.503389</td>\n",
              "    </tr>\n",
              "    <tr>\n",
              "      <th>2012-01-10</th>\n",
              "      <td>8.9670</td>\n",
              "      <td>15.520326</td>\n",
              "    </tr>\n",
              "    <tr>\n",
              "      <th>2012-01-11</th>\n",
              "      <td>8.9450</td>\n",
              "      <td>15.590563</td>\n",
              "    </tr>\n",
              "    <tr>\n",
              "      <th>2012-01-12</th>\n",
              "      <td>8.7965</td>\n",
              "      <td>15.682219</td>\n",
              "    </tr>\n",
              "    <tr>\n",
              "      <th>2012-01-13</th>\n",
              "      <td>8.9210</td>\n",
              "      <td>15.566403</td>\n",
              "    </tr>\n",
              "    <tr>\n",
              "      <th>2012-01-17</th>\n",
              "      <td>9.0830</td>\n",
              "      <td>15.655818</td>\n",
              "    </tr>\n",
              "    <tr>\n",
              "      <th>2012-01-18</th>\n",
              "      <td>9.4720</td>\n",
              "      <td>15.763664</td>\n",
              "    </tr>\n",
              "    <tr>\n",
              "      <th>2012-01-19</th>\n",
              "      <td>9.7225</td>\n",
              "      <td>15.929542</td>\n",
              "    </tr>\n",
              "    <tr>\n",
              "      <th>2012-01-20</th>\n",
              "      <td>9.5465</td>\n",
              "      <td>14.595044</td>\n",
              "    </tr>\n",
              "    <tr>\n",
              "      <th>2012-01-23</th>\n",
              "      <td>9.3045</td>\n",
              "      <td>14.583338</td>\n",
              "    </tr>\n",
              "    <tr>\n",
              "      <th>2012-01-24</th>\n",
              "      <td>9.3500</td>\n",
              "      <td>14.469017</td>\n",
              "    </tr>\n",
              "    <tr>\n",
              "      <th>2012-01-25</th>\n",
              "      <td>9.3900</td>\n",
              "      <td>14.184085</td>\n",
              "    </tr>\n",
              "    <tr>\n",
              "      <th>2012-01-26</th>\n",
              "      <td>9.6660</td>\n",
              "      <td>14.149464</td>\n",
              "    </tr>\n",
              "    <tr>\n",
              "      <th>2012-01-27</th>\n",
              "      <td>9.7685</td>\n",
              "      <td>14.445355</td>\n",
              "    </tr>\n",
              "    <tr>\n",
              "      <th>2012-01-30</th>\n",
              "      <td>9.6075</td>\n",
              "      <td>14.388319</td>\n",
              "    </tr>\n",
              "    <tr>\n",
              "      <th>2012-01-31</th>\n",
              "      <td>9.7220</td>\n",
              "      <td>14.448593</td>\n",
              "    </tr>\n",
              "  </tbody>\n",
              "</table>\n",
              "</div>\n",
              "      <button class=\"colab-df-convert\" onclick=\"convertToInteractive('df-ead4193f-daf7-46fc-b498-833004b949b9')\"\n",
              "              title=\"Convert this dataframe to an interactive table.\"\n",
              "              style=\"display:none;\">\n",
              "        \n",
              "  <svg xmlns=\"http://www.w3.org/2000/svg\" height=\"24px\"viewBox=\"0 0 24 24\"\n",
              "       width=\"24px\">\n",
              "    <path d=\"M0 0h24v24H0V0z\" fill=\"none\"/>\n",
              "    <path d=\"M18.56 5.44l.94 2.06.94-2.06 2.06-.94-2.06-.94-.94-2.06-.94 2.06-2.06.94zm-11 1L8.5 8.5l.94-2.06 2.06-.94-2.06-.94L8.5 2.5l-.94 2.06-2.06.94zm10 10l.94 2.06.94-2.06 2.06-.94-2.06-.94-.94-2.06-.94 2.06-2.06.94z\"/><path d=\"M17.41 7.96l-1.37-1.37c-.4-.4-.92-.59-1.43-.59-.52 0-1.04.2-1.43.59L10.3 9.45l-7.72 7.72c-.78.78-.78 2.05 0 2.83L4 21.41c.39.39.9.59 1.41.59.51 0 1.02-.2 1.41-.59l7.78-7.78 2.81-2.81c.8-.78.8-2.07 0-2.86zM5.41 20L4 18.59l7.72-7.72 1.47 1.35L5.41 20z\"/>\n",
              "  </svg>\n",
              "      </button>\n",
              "      \n",
              "  <style>\n",
              "    .colab-df-container {\n",
              "      display:flex;\n",
              "      flex-wrap:wrap;\n",
              "      gap: 12px;\n",
              "    }\n",
              "\n",
              "    .colab-df-convert {\n",
              "      background-color: #E8F0FE;\n",
              "      border: none;\n",
              "      border-radius: 50%;\n",
              "      cursor: pointer;\n",
              "      display: none;\n",
              "      fill: #1967D2;\n",
              "      height: 32px;\n",
              "      padding: 0 0 0 0;\n",
              "      width: 32px;\n",
              "    }\n",
              "\n",
              "    .colab-df-convert:hover {\n",
              "      background-color: #E2EBFA;\n",
              "      box-shadow: 0px 1px 2px rgba(60, 64, 67, 0.3), 0px 1px 3px 1px rgba(60, 64, 67, 0.15);\n",
              "      fill: #174EA6;\n",
              "    }\n",
              "\n",
              "    [theme=dark] .colab-df-convert {\n",
              "      background-color: #3B4455;\n",
              "      fill: #D2E3FC;\n",
              "    }\n",
              "\n",
              "    [theme=dark] .colab-df-convert:hover {\n",
              "      background-color: #434B5C;\n",
              "      box-shadow: 0px 1px 3px 1px rgba(0, 0, 0, 0.15);\n",
              "      filter: drop-shadow(0px 1px 2px rgba(0, 0, 0, 0.3));\n",
              "      fill: #FFFFFF;\n",
              "    }\n",
              "  </style>\n",
              "\n",
              "      <script>\n",
              "        const buttonEl =\n",
              "          document.querySelector('#df-ead4193f-daf7-46fc-b498-833004b949b9 button.colab-df-convert');\n",
              "        buttonEl.style.display =\n",
              "          google.colab.kernel.accessAllowed ? 'block' : 'none';\n",
              "\n",
              "        async function convertToInteractive(key) {\n",
              "          const element = document.querySelector('#df-ead4193f-daf7-46fc-b498-833004b949b9');\n",
              "          const dataTable =\n",
              "            await google.colab.kernel.invokeFunction('convertToInteractive',\n",
              "                                                     [key], {});\n",
              "          if (!dataTable) return;\n",
              "\n",
              "          const docLinkHtml = 'Like what you see? Visit the ' +\n",
              "            '<a target=\"_blank\" href=https://colab.research.google.com/notebooks/data_table.ipynb>data table notebook</a>'\n",
              "            + ' to learn more about interactive tables.';\n",
              "          element.innerHTML = '';\n",
              "          dataTable['output_type'] = 'display_data';\n",
              "          await google.colab.output.renderOutput(dataTable, element);\n",
              "          const docLink = document.createElement('div');\n",
              "          docLink.innerHTML = docLinkHtml;\n",
              "          element.appendChild(docLink);\n",
              "        }\n",
              "      </script>\n",
              "    </div>\n",
              "  </div>\n",
              "  "
            ]
          },
          "metadata": {},
          "execution_count": 6
        }
      ],
      "source": [
        "data=df['Close']\n",
        "data.head(20)"
      ]
    },
    {
      "cell_type": "markdown",
      "id": "2b36b9d2",
      "metadata": {
        "id": "2b36b9d2"
      },
      "source": [
        "4. Prepare the data"
      ]
    },
    {
      "cell_type": "code",
      "execution_count": 7,
      "id": "33e98ea8",
      "metadata": {
        "id": "33e98ea8"
      },
      "outputs": [],
      "source": [
        "#convert to numpy aarray\n",
        "#We use 80 of the data for training\n",
        "train_pct=0.8  \n",
        "dataset=data.values\n",
        "train_data_len=math.ceil(len(dataset)*train_pct)"
      ]
    },
    {
      "cell_type": "code",
      "source": [
        "dataset.shape"
      ],
      "metadata": {
        "colab": {
          "base_uri": "https://localhost:8080/"
        },
        "id": "MHp6U3Wvynb5",
        "outputId": "554989f8-b379-4139-a89e-11de875e3413"
      },
      "id": "MHp6U3Wvynb5",
      "execution_count": 8,
      "outputs": [
        {
          "output_type": "execute_result",
          "data": {
            "text/plain": [
              "(2795, 2)"
            ]
          },
          "metadata": {},
          "execution_count": 8
        }
      ]
    },
    {
      "cell_type": "code",
      "execution_count": 9,
      "id": "873eb3d8",
      "metadata": {
        "id": "873eb3d8"
      },
      "outputs": [],
      "source": [
        "#Scale the data\n",
        "scaler = MinMaxScaler(feature_range=(0,1))\n",
        "scaled_data=scaler.fit_transform(dataset)"
      ]
    },
    {
      "cell_type": "code",
      "source": [
        "scaled_data.shape"
      ],
      "metadata": {
        "colab": {
          "base_uri": "https://localhost:8080/"
        },
        "id": "zX2iLGJjy8zX",
        "outputId": "6d9a6724-c77f-4e13-9317-e2f83a9f833c"
      },
      "id": "zX2iLGJjy8zX",
      "execution_count": 10,
      "outputs": [
        {
          "output_type": "execute_result",
          "data": {
            "text/plain": [
              "(2795, 2)"
            ]
          },
          "metadata": {},
          "execution_count": 10
        }
      ]
    },
    {
      "cell_type": "markdown",
      "id": "b99e5e8a",
      "metadata": {
        "id": "b99e5e8a"
      },
      "source": [
        "### The window we use is n_period as input"
      ]
    },
    {
      "cell_type": "code",
      "execution_count": 11,
      "id": "b24fd20b",
      "metadata": {
        "id": "b24fd20b"
      },
      "outputs": [],
      "source": [
        "n_period=60\n",
        "n_future = 5  # Number of future days to predict\n",
        "\n",
        "#training dataset\n",
        "train_data=scaled_data[0:train_data_len]\n",
        "x_train=[]\n",
        "y_train=[]\n",
        "\n",
        "for i in range(n_period, len(train_data) - n_future + 1):\n",
        "    x_train.append(train_data[i-n_period:i])\n",
        "    y_train.append(train_data[i:i+n_future, 0])\n",
        "\n",
        "# Convert x_train to numpy array and reshape\n",
        "x_train = np.array(x_train).reshape(-1, n_period, 2)  # Assuming I have 2 features (AMZN, GOOG)   \n"
      ]
    },
    {
      "cell_type": "code",
      "source": [
        "x_train[0:1]"
      ],
      "metadata": {
        "colab": {
          "base_uri": "https://localhost:8080/"
        },
        "id": "wXU39nmsyc5W",
        "outputId": "56966a59-d180-4aa4-9073-faee9a76fa66"
      },
      "id": "wXU39nmsyc5W",
      "execution_count": 12,
      "outputs": [
        {
          "output_type": "execute_result",
          "data": {
            "text/plain": [
              "array([[[0.00087189, 0.01936668],\n",
              "        [0.00044438, 0.01988927],\n",
              "        [0.00047251, 0.01820133],\n",
              "        [0.00187879, 0.01656439],\n",
              "        [0.0007397 , 0.01154608],\n",
              "        [0.00095908, 0.0116699 ],\n",
              "        [0.00083533, 0.01218339],\n",
              "        [0.        , 0.01285346],\n",
              "        [0.00070032, 0.01200676],\n",
              "        [0.0016116 , 0.01266045],\n",
              "        [0.00379977, 0.01344889],\n",
              "        [0.00520886, 0.01466158],\n",
              "        [0.00421884, 0.0049054 ],\n",
              "        [0.00285756, 0.00481982],\n",
              "        [0.0031135 , 0.00398405],\n",
              "        [0.00333851, 0.00190098],\n",
              "        [0.00489104, 0.00164788],\n",
              "        [0.00546762, 0.00381107],\n",
              "        [0.00456197, 0.00339409],\n",
              "        [0.00520605, 0.00383474],\n",
              "        [0.00099283, 0.00396584],\n",
              "        [0.00162847, 0.00474516],\n",
              "        [0.00330476, 0.00678818],\n",
              "        [0.00202785, 0.0091116 ],\n",
              "        [0.00232318, 0.00868915],\n",
              "        [0.00268599, 0.00924998],\n",
              "        [0.00254536, 0.00954313],\n",
              "        [0.00270287, 0.00853256],\n",
              "        [0.00440447, 0.00967788],\n",
              "        [0.0043229 , 0.00923359],\n",
              "        [0.00240193, 0.00846883],\n",
              "        [0.00112502, 0.00864363],\n",
              "        [0.00184785, 0.00830131],\n",
              "        [0.00178035, 0.01000563],\n",
              "        [0.00130784, 0.00890219],\n",
              "        [0.00083252, 0.00856898],\n",
              "        [0.00090002, 0.00925908],\n",
              "        [0.00073127, 0.00915165],\n",
              "        [0.00221348, 0.01080499],\n",
              "        [0.00105752, 0.01077951],\n",
              "        [0.00115596, 0.01153516],\n",
              "        [0.00094783, 0.01132576],\n",
              "        [0.00121783, 0.01005116],\n",
              "        [0.00145128, 0.00835958],\n",
              "        [0.00220505, 0.00869461],\n",
              "        [0.00329351, 0.00875653],\n",
              "        [0.00235973, 0.00750196],\n",
              "        [0.00209817, 0.00839417],\n",
              "        [0.00243567, 0.01069392],\n",
              "        [0.00178035, 0.01036799],\n",
              "        [0.00239068, 0.01130392],\n",
              "        [0.00256505, 0.01201587],\n",
              "        [0.00269724, 0.01364372],\n",
              "        [0.0046126 , 0.01355449],\n",
              "        [0.00444384, 0.01473623],\n",
              "        [0.00463228, 0.01584149],\n",
              "        [0.0053748 , 0.01521148],\n",
              "        [0.00757704, 0.01643874],\n",
              "        [0.00829986, 0.01601812],\n",
              "        [0.00709609, 0.01760955]]])"
            ]
          },
          "metadata": {},
          "execution_count": 12
        }
      ]
    },
    {
      "cell_type": "code",
      "execution_count": 13,
      "id": "4bd0854f",
      "metadata": {
        "id": "4bd0854f",
        "colab": {
          "base_uri": "https://localhost:8080/"
        },
        "outputId": "8f3790dd-6578-43e6-d198-49b44dba027e"
      },
      "outputs": [
        {
          "output_type": "execute_result",
          "data": {
            "text/plain": [
              "[array([0.00806642, 0.00747578, 0.00622138, 0.0066742 , 0.00507948])]"
            ]
          },
          "metadata": {},
          "execution_count": 13
        }
      ],
      "source": [
        "y_train[0:1]"
      ]
    },
    {
      "cell_type": "code",
      "execution_count": 14,
      "id": "367ff1f8",
      "metadata": {
        "id": "367ff1f8",
        "colab": {
          "base_uri": "https://localhost:8080/"
        },
        "outputId": "1d47efd8-96fd-44c5-b8ec-17604527281c"
      },
      "outputs": [
        {
          "output_type": "execute_result",
          "data": {
            "text/plain": [
              "[array([0.00806642, 0.00747578, 0.00622138, 0.0066742 , 0.00507948]),\n",
              " array([0.00747578, 0.00622138, 0.0066742 , 0.00507948, 0.00519198])]"
            ]
          },
          "metadata": {},
          "execution_count": 14
        }
      ],
      "source": [
        "y_train[:2]"
      ]
    },
    {
      "cell_type": "code",
      "execution_count": 15,
      "id": "5792e24f",
      "metadata": {
        "id": "5792e24f"
      },
      "outputs": [],
      "source": [
        "#Convert numpy array\n",
        "x_train, y_train=np.array(x_train), np.array(y_train)\n",
        "\n"
      ]
    },
    {
      "cell_type": "code",
      "execution_count": 16,
      "id": "c7f71888",
      "metadata": {
        "id": "c7f71888",
        "colab": {
          "base_uri": "https://localhost:8080/"
        },
        "outputId": "954b819e-84cb-411c-f3bc-baf120186329"
      },
      "outputs": [
        {
          "output_type": "execute_result",
          "data": {
            "text/plain": [
              "(2172, 60, 2)"
            ]
          },
          "metadata": {},
          "execution_count": 16
        }
      ],
      "source": [
        "x_train.shape"
      ]
    },
    {
      "cell_type": "code",
      "source": [
        "y_train.shape"
      ],
      "metadata": {
        "colab": {
          "base_uri": "https://localhost:8080/"
        },
        "id": "eUv54JwC11Qu",
        "outputId": "91ce51b6-3e9c-40d2-cc4d-053527d2663f"
      },
      "id": "eUv54JwC11Qu",
      "execution_count": 17,
      "outputs": [
        {
          "output_type": "execute_result",
          "data": {
            "text/plain": [
              "(2172, 5)"
            ]
          },
          "metadata": {},
          "execution_count": 17
        }
      ]
    },
    {
      "cell_type": "code",
      "execution_count": 18,
      "id": "7248d31c",
      "metadata": {
        "id": "7248d31c",
        "colab": {
          "base_uri": "https://localhost:8080/"
        },
        "outputId": "10c6e7ec-9ac5-4132-fffd-e94b65ee80de"
      },
      "outputs": [
        {
          "output_type": "execute_result",
          "data": {
            "text/plain": [
              "(2172, 60, 2)"
            ]
          },
          "metadata": {},
          "execution_count": 18
        }
      ],
      "source": [
        "x_train=np.reshape(x_train, (x_train.shape[0], x_train.shape[1],2))\n",
        "x_train.shape"
      ]
    },
    {
      "cell_type": "markdown",
      "id": "036d32be",
      "metadata": {
        "id": "036d32be"
      },
      "source": [
        "5. Train the model\n",
        "Adam optimization is a stochastic gradient descent method that is based on adaptive estimation of first-order and second-order moments.\n",
        "loss function is chosen as mean_squared_error'"
      ]
    },
    {
      "cell_type": "code",
      "execution_count": 19,
      "id": "84704a94",
      "metadata": {
        "id": "84704a94"
      },
      "outputs": [],
      "source": [
        "#Build the LSTM model\n",
        "model=Sequential()\n",
        "model.add(LSTM(50,return_sequences=True, input_shape=(x_train.shape[1],2)))\n",
        "model.add(LSTM(50, return_sequences=False))\n",
        "model.add(Dense(25))\n",
        "model.add(Dense(1))\n",
        "          "
      ]
    },
    {
      "cell_type": "code",
      "execution_count": 20,
      "id": "df48dce3",
      "metadata": {
        "id": "df48dce3"
      },
      "outputs": [],
      "source": [
        "model.compile(optimizer='adam', loss='mean_squared_error')"
      ]
    },
    {
      "cell_type": "code",
      "execution_count": 21,
      "id": "7727d86b",
      "metadata": {
        "id": "7727d86b",
        "outputId": "47aabb99-c57d-4fef-8351-06699ac53892",
        "colab": {
          "base_uri": "https://localhost:8080/"
        }
      },
      "outputs": [
        {
          "output_type": "stream",
          "name": "stdout",
          "text": [
            "2172/2172 [==============================] - 48s 20ms/step - loss: 0.0012\n"
          ]
        },
        {
          "output_type": "execute_result",
          "data": {
            "text/plain": [
              "<keras.callbacks.History at 0x7f21d9c0b160>"
            ]
          },
          "metadata": {},
          "execution_count": 21
        }
      ],
      "source": [
        "model.fit(x_train,y_train, batch_size=1, epochs=1)"
      ]
    },
    {
      "cell_type": "code",
      "execution_count": 22,
      "id": "fdf309a5",
      "metadata": {
        "id": "fdf309a5"
      },
      "outputs": [],
      "source": [
        "#Test\n",
        "\n",
        "# Extract the portion of the test data for prediction\n",
        "test_data=scaled_data[train_data_len-60:,:]\n",
        "\n",
        "# Prepare the test inputs (similar to training)\n",
        "x_test = []\n",
        "y_test = []\n",
        "\n",
        "for i in range(n_period, len(test_data) - n_future + 1):\n",
        "    x_test.append(test_data[i-n_period:i])\n",
        "    y_test.append(test_data[i:i+n_future, 0])\n",
        "\n",
        "# Convert x_test to numpy array and reshape\n",
        "x_test = np.array(x_test).reshape(-1, n_period, 2)  # Assuming I have 2 features (AMZN, GOOG)\n",
        "\n",
        "\n",
        "\n"
      ]
    },
    {
      "cell_type": "code",
      "execution_count": 23,
      "id": "f19dcf96",
      "metadata": {
        "id": "f19dcf96",
        "outputId": "3f489f8e-f39e-43e0-a18d-061b27f41e32",
        "colab": {
          "base_uri": "https://localhost:8080/"
        }
      },
      "outputs": [
        {
          "output_type": "execute_result",
          "data": {
            "text/plain": [
              "(555, 60, 2)"
            ]
          },
          "metadata": {},
          "execution_count": 23
        }
      ],
      "source": [
        "x_test.shape"
      ]
    },
    {
      "cell_type": "markdown",
      "id": "0a8c4341",
      "metadata": {
        "id": "0a8c4341"
      },
      "source": [
        "6. Prediction error"
      ]
    },
    {
      "cell_type": "code",
      "source": [
        "scaled_data"
      ],
      "metadata": {
        "colab": {
          "base_uri": "https://localhost:8080/"
        },
        "id": "fRYUOW7dtrRd",
        "outputId": "6c27bab8-375e-4722-8238-e97a60a4f3ee"
      },
      "id": "fRYUOW7dtrRd",
      "execution_count": 24,
      "outputs": [
        {
          "output_type": "execute_result",
          "data": {
            "text/plain": [
              "array([[8.71892048e-04, 1.93666841e-02],\n",
              "       [4.44381751e-04, 1.98892687e-02],\n",
              "       [4.72507993e-04, 1.82013303e-02],\n",
              "       ...,\n",
              "       [5.24899607e-01, 6.88057775e-01],\n",
              "       [5.13311875e-01, 6.29279368e-01],\n",
              "       [5.03130379e-01, 5.96088573e-01]])"
            ]
          },
          "metadata": {},
          "execution_count": 24
        }
      ]
    },
    {
      "cell_type": "code",
      "source": [
        "scaler.data_max_"
      ],
      "metadata": {
        "colab": {
          "base_uri": "https://localhost:8080/"
        },
        "id": "FXn0vTvKt3vB",
        "outputId": "30d1bf9a-4ca0-47a8-b04b-4497748872ca"
      },
      "id": "FXn0vTvKt3vB",
      "execution_count": 25,
      "outputs": [
        {
          "output_type": "execute_result",
          "data": {
            "text/plain": [
              "array([186.57049561, 150.70899963])"
            ]
          },
          "metadata": {},
          "execution_count": 25
        }
      ]
    },
    {
      "cell_type": "code",
      "source": [
        "scaler.data_min_"
      ],
      "metadata": {
        "colab": {
          "base_uri": "https://localhost:8080/"
        },
        "id": "2IVXL1Ch6oNN",
        "outputId": "f1f617c2-eaa1-4094-831b-d0cbd59f519b"
      },
      "id": "2IVXL1Ch6oNN",
      "execution_count": 26,
      "outputs": [
        {
          "output_type": "execute_result",
          "data": {
            "text/plain": [
              "array([ 8.79650021, 13.92405891])"
            ]
          },
          "metadata": {},
          "execution_count": 26
        }
      ]
    },
    {
      "cell_type": "code",
      "execution_count": 27,
      "id": "c8e158a5",
      "metadata": {
        "id": "c8e158a5",
        "colab": {
          "base_uri": "https://localhost:8080/"
        },
        "outputId": "719648c5-22b7-4259-8318-b7299c5c83f9"
      },
      "outputs": [
        {
          "output_type": "stream",
          "name": "stdout",
          "text": [
            "18/18 [==============================] - 1s 14ms/step\n"
          ]
        }
      ],
      "source": [
        "predictions_scaled=model.predict(x_test)"
      ]
    },
    {
      "cell_type": "code",
      "execution_count": 28,
      "id": "6e106d69",
      "metadata": {
        "id": "6e106d69"
      },
      "outputs": [],
      "source": [
        "#predictions=scaler.inverse_transform(predictions)\n",
        "predictions=predictions_scaled*(scaler.data_max_[0]-scaler.data_min_[0])+scaler.data_min_[0]"
      ]
    },
    {
      "cell_type": "code",
      "execution_count": 29,
      "id": "0e231af7",
      "metadata": {
        "id": "0e231af7",
        "colab": {
          "base_uri": "https://localhost:8080/"
        },
        "outputId": "7d0ae9f0-c024-46ce-f198-95c4c4d5eb01"
      },
      "outputs": [
        {
          "output_type": "execute_result",
          "data": {
            "text/plain": [
              "(555, 1)"
            ]
          },
          "metadata": {},
          "execution_count": 29
        }
      ],
      "source": [
        "predictions.shape"
      ]
    },
    {
      "cell_type": "code",
      "execution_count": 30,
      "id": "19766298",
      "metadata": {
        "id": "19766298",
        "colab": {
          "base_uri": "https://localhost:8080/"
        },
        "outputId": "055a0aa0-091b-4bcc-f008-9b1e351a6c2c"
      },
      "outputs": [
        {
          "output_type": "execute_result",
          "data": {
            "text/plain": [
              "135.14122225960705"
            ]
          },
          "metadata": {},
          "execution_count": 30
        }
      ],
      "source": [
        "#RMSE\n",
        "rmse=np.sqrt(np.mean(predictions-y_test)**2)\n",
        "rmse"
      ]
    },
    {
      "cell_type": "code",
      "source": [
        "data.max()"
      ],
      "metadata": {
        "colab": {
          "base_uri": "https://localhost:8080/"
        },
        "id": "k_m2-0gRC3JE",
        "outputId": "669f0d6f-2f2f-46ae-b7fd-0e40ff6bdca1"
      },
      "id": "k_m2-0gRC3JE",
      "execution_count": 31,
      "outputs": [
        {
          "output_type": "execute_result",
          "data": {
            "text/plain": [
              "AMZN    186.570496\n",
              "GOOG    150.709000\n",
              "dtype: float64"
            ]
          },
          "metadata": {},
          "execution_count": 31
        }
      ]
    },
    {
      "cell_type": "code",
      "execution_count": 32,
      "id": "f2fa0949",
      "metadata": {
        "id": "f2fa0949",
        "colab": {
          "base_uri": "https://localhost:8080/",
          "height": 718
        },
        "outputId": "d56c36b8-f961-4262-8d4c-a151cd587d85"
      },
      "outputs": [
        {
          "output_type": "display_data",
          "data": {
            "text/plain": [
              "<Figure size 1200x800 with 1 Axes>"
            ],
            "image/png": "[encoded data removed]"
          },
          "metadata": {}
        }
      ],
      "source": [
        "#plot the result\n",
        "train=data[:train_data_len]\n",
        "valid = data[train_data_len:train_data_len + len(predictions)]\n",
        "valid = valid.assign(Predictions=predictions)\n",
        "plt.figure(figsize=(12,8))\n",
        "plt.title('Model')\n",
        "plt.xlabel('Date')\n",
        "plt.ylabel('Stock Price ($)')\n",
        "plt.plot(train, lw=1)\n",
        "plt.plot(valid[['AMZN','Predictions']], lw=1)\n",
        "plt.legend(['Train-AMZN','Train-GOOG', 'Validation', 'Prediction'],loc='lower right')\n",
        "plt.show()"
      ]
    },
    {
      "cell_type": "code",
      "execution_count": 33,
      "id": "5a077d2e",
      "metadata": {
        "id": "5a077d2e",
        "colab": {
          "base_uri": "https://localhost:8080/",
          "height": 694
        },
        "outputId": "38d6b93d-aa93-4c41-f9ee-6754cbcda843"
      },
      "outputs": [
        {
          "output_type": "execute_result",
          "data": {
            "text/plain": [
              "<matplotlib.legend.Legend at 0x7f21d8114a90>"
            ]
          },
          "metadata": {},
          "execution_count": 33
        },
        {
          "output_type": "display_data",
          "data": {
            "text/plain": [
              "<Figure size 1200x800 with 1 Axes>"
            ],
            "image/png": "[encoded data removed]"
          },
          "metadata": {}
        }
      ],
      "source": [
        "plt.figure(figsize=(12,8))\n",
        "plt.plot(valid[['AMZN','Predictions']], lw=1)\n",
        "plt.legend(['Validation', 'Prediction'])"
      ]
    },
    {
      "cell_type": "markdown",
      "id": "dac861c9",
      "metadata": {
        "id": "dac861c9"
      },
      "source": [
        "### Group Assignment:\n",
        "In the example, we use the last 60 day's price to predict the closing price for next day.  Modify the program to perform the following task:\n",
        "- Use past 60 days price to predict the price in one week (5 days). \n",
        "- You can choose any stock. Also use two indices prices for input\n",
        "- Use your prediction to generate trading signals for the testing periodd (20% of you dataset):  if the predicted price is higher than the current price (you can specify a threshold) , you should buy one share; if it is lower than the current preice, you can short one share.\n",
        "- Assume that you will always close your position in onw week, caculate your accumaltaed PnL for testing data\n"
      ]
    },
    {
      "cell_type": "code",
      "execution_count": 34,
      "id": "6b759443",
      "metadata": {
        "id": "6b759443",
        "colab": {
          "base_uri": "https://localhost:8080/"
        },
        "outputId": "402a8303-df02-4beb-82c4-7479e2642ab7"
      },
      "outputs": [
        {
          "output_type": "stream",
          "name": "stdout",
          "text": [
            "[[92.95556]\n",
            " [93.62619]\n",
            " [94.4688 ]\n",
            " [95.5154 ]\n",
            " [97.41238]]\n"
          ]
        }
      ],
      "source": [
        "predicted_prices = predictions[-n_future:]\n",
        "print(predicted_prices)"
      ]
    },
    {
      "cell_type": "code",
      "source": [
        "current_price = df['Close'].iloc[-1]\n",
        "print(\"Current Price:\", current_price)"
      ],
      "metadata": {
        "colab": {
          "base_uri": "https://localhost:8080/"
        },
        "id": "yh4nt-VraPt4",
        "outputId": "7f0df92a-4bee-4bfd-ea13-041ef48deb62"
      },
      "id": "yh4nt-VraPt4",
      "execution_count": 35,
      "outputs": [
        {
          "output_type": "stream",
          "name": "stdout",
          "text": [
            "Current Price: AMZN    98.239998\n",
            "GOOG    95.459999\n",
            "Name: 2023-02-09 00:00:00, dtype: float64\n"
          ]
        }
      ]
    },
    {
      "cell_type": "code",
      "source": [
        "current_price = 98.239998\n",
        "threshold = 12  # Change the threshold value as needed \n",
        "\n",
        "# Get the last n_future predictions\n",
        "predicted_prices = predictions[-n_future:]\n",
        "\n",
        "# Replicate current_price to match the length of predicted_prices\n",
        "current_prices = np.full(predicted_prices.shape, current_price)\n",
        "\n",
        "# Loop through the predicted prices and generate trading signals\n",
        "for i, predicted_price in enumerate(predicted_prices):\n",
        "    if predicted_price > current_prices[i] + threshold:\n",
        "        # Buy one share\n",
        "        print(\"Buy one share on day\", i)\n",
        "    else:\n",
        "        # Short one share\n",
        "        print(\"Short one share on day\", i)\n"
      ],
      "metadata": {
        "colab": {
          "base_uri": "https://localhost:8080/"
        },
        "id": "PCsM1AvcWXgD",
        "outputId": "91da9be9-bcc7-4e2d-e8bf-2e2d902d1dd9"
      },
      "id": "PCsM1AvcWXgD",
      "execution_count": 36,
      "outputs": [
        {
          "output_type": "stream",
          "name": "stdout",
          "text": [
            "Short one share on day 0\n",
            "Short one share on day 1\n",
            "Short one share on day 2\n",
            "Short one share on day 3\n",
            "Short one share on day 4\n"
          ]
        }
      ]
    },
    {
      "cell_type": "code",
      "source": [
        "position = 0  # Current position (0: no position, 1: long, -1: short)\n",
        "pnl = 1  # Accumulated PnL\n",
        "entry_price = current_prices[i]\n"
      ],
      "metadata": {
        "id": "V-Gib5vCYOKR"
      },
      "id": "V-Gib5vCYOKR",
      "execution_count": 37,
      "outputs": []
    },
    {
      "cell_type": "code",
      "source": [
        "pnl += position * (current_price - entry_price)  # Update the accumulated PnL\n",
        "print(\"Accumulated PnL:\", pnl)\n"
      ],
      "metadata": {
        "colab": {
          "base_uri": "https://localhost:8080/"
        },
        "id": "q68YEiZsfI-W",
        "outputId": "e85051e1-fa4e-464f-db1f-f63c18b0fda3"
      },
      "id": "q68YEiZsfI-W",
      "execution_count": 38,
      "outputs": [
        {
          "output_type": "stream",
          "name": "stdout",
          "text": [
            "Accumulated PnL: [1.]\n"
          ]
        }
      ]
    },
    {
      "cell_type": "code",
      "source": [
        "pnl = 0.0\n",
        "position = 0\n",
        "entry_price = 0.0\n",
        "\n",
        "threshold = 20  # Set the threshold value\n",
        "\n",
        "# Determine the length for iteration\n",
        "n = min(len(predicted_prices), len(test_data))\n",
        "\n",
        "# Loop through the data and generate trading signals\n",
        "for i in range(n):\n",
        "    current_price = test_data[i]  # Get the current price for the current day\n",
        "    predicted_price = predicted_prices[i]  # Get the predicted price for the current day\n",
        "\n",
        "    if np.greater(predicted_price, current_price + threshold).any():\n",
        "        if position != 1:  # If not already long, enter long position\n",
        "            position = 1\n",
        "            entry_price = current_price\n",
        "    elif np.less(predicted_price, current_price - threshold).any():\n",
        "        if position != -1:  # If not already short, enter short position\n",
        "            position = -1\n",
        "            entry_price = current_price\n",
        "\n",
        "    if i % 2 == 0 and i != 0:\n",
        "        pnl += position * (current_price - entry_price)  # Update the accumulated PnL\n",
        "        position = 0  # Reset the position\n",
        "\n",
        "# Print the accumulated PnL\n",
        "print(\"Accumulated PnL:\", pnl)\n"
      ],
      "metadata": {
        "colab": {
          "base_uri": "https://localhost:8080/"
        },
        "id": "fGUgAWfUhJgl",
        "outputId": "61d8c5d2-a82a-4178-9da1-1ad0de5cae2e"
      },
      "id": "fGUgAWfUhJgl",
      "execution_count": 39,
      "outputs": [
        {
          "output_type": "stream",
          "name": "stdout",
          "text": [
            "Accumulated PnL: [0.00228091 0.00678433]\n"
          ]
        }
      ]
    },
    {
      "cell_type": "markdown",
      "source": [
        "Short position using a borrowing sugar example.\n",
        "\n",
        "Imagine you have a neighbor who loves baking and always has a supply of sugar. One day, you notice that the price of sugar is quite high in the market and you believe it will decrease in the future. You see an opportunity to make a profit by taking a short position on sugar.\n",
        "\n",
        "Here's how it works:\n",
        "\n",
        "1. You approach your neighbor, who is willing to lend you a bag of sugar for a fee.\n",
        "2. You borrow a bag of sugar from your neighbor and immediately sell it to someone else in the market at the current high price. You don't actually own the sugar; you've just borrowed it temporarily.\n",
        "3. Now, you have cash from selling the sugar, but you still owe your neighbor a bag of sugar.\n",
        "4. As time passes, you hope the price of sugar decreases, as you predicted. Let's say it does.\n",
        "5. When the price of sugar has dropped to a level you're comfortable with, you decide to close your short position and buy a bag of sugar from the market.\n",
        "6. With the cash you received from selling the sugar initially, you can now buy the bag of sugar at the lower price and return it to your neighbor.\n",
        "7. You've profited from the price difference between when you sold the borrowed sugar and when you bought it back. You keep the difference as your profit, minus the borrowing fee paid to your neighbor.\n",
        "\n",
        "In this example, your short position in sugar involved borrowing and selling an asset (sugar) that you didn't own with the expectation that its price would decrease. By buying it back at a lower price, you were able to profit from the price difference.\n",
        "\n",
        "Short positions can be applied to various financial instruments, such as stocks, commodities, or currencies. The principle remains the same: selling an asset you don't own, expecting its price to decline, and buying it back at a lower price to make a profit."
      ],
      "metadata": {
        "id": "rUIInIa9lTDc"
      },
      "id": "rUIInIa9lTDc"
    },
    {
      "cell_type": "markdown",
      "source": [
        "This code calculates the accumulated PnL (Profit and Loss) based on the trading signals generated using predicted prices and current prices. Here's how it works:\n",
        "\n",
        "1. Initialization:\n",
        "   - `pnl = 0.0`: Initialize the accumulated PnL to zero.\n",
        "   - `position = 0`: Initialize the position to zero (no position).\n",
        "   - `entry_price = 0.0`: Initialize the entry price to zero.\n",
        "\n",
        "2. Threshold:\n",
        "   - `threshold = 20`: Set the threshold value. This is the difference between the predicted price and the current price that determines whether a trading signal should be generated.\n",
        "\n",
        "3. Iteration:\n",
        "   - Determine the length of iteration `n` based on the minimum length between `predicted_prices` and `test_data`.\n",
        "   - Loop through the data from index 0 to index `n-1`.\n",
        "\n",
        "4. Trading Signal Generation:\n",
        "   - Get the current price for the current day from `test_data`.\n",
        "   - Get the predicted price for the current day from `predicted_prices`.\n",
        "   - Compare the predicted price with the current price using `np.greater()` and `np.less()` functions with the threshold.\n",
        "   - If the predicted price is greater than the current price plus the threshold, and there is no existing long position (`position != 1`), enter a long position (`position = 1`) and set the entry price as the current price.\n",
        "   - If the predicted price is less than the current price minus the threshold, and there is no existing short position (`position != -1`), enter a short position (`position = -1`) and set the entry price as the current price.\n",
        "\n",
        "5. Accumulated PnL Calculation:\n",
        "   - If the current index is divisible by 2 and not equal to 0 (`i % 2 == 0 and i != 0`), update the accumulated PnL (`pnl`) by adding the profit or loss from the position. The profit or loss is calculated as `position * (current_price - entry_price)`.\n",
        "   - Reset the position to zero (`position = 0`) to close the position.\n",
        "\n",
        "6. Print Accumulated PnL:\n",
        "   - Print the accumulated PnL using `print(\"Accumulated PnL:\", pnl)`.\n",
        "\n",
        "The code calculates the accumulated PnL by iterating through the data, generating trading signals based on the predicted prices and current prices, and updating the accumulated PnL based on the trades made."
      ],
      "metadata": {
        "id": "zPgUAJ7WkHx2"
      },
      "id": "zPgUAJ7WkHx2"
    }
  ],
  "metadata": {
    "kernelspec": {
      "display_name": "Python 3 (ipykernel)",
      "language": "python",
      "name": "python3"
    },
    "language_info": {
      "codemirror_mode": {
        "name": "ipython",
        "version": 3
      },
      "file_extension": ".py",
      "mimetype": "text/x-python",
      "name": "python",
      "nbconvert_exporter": "python",
      "pygments_lexer": "ipython3",
      "version": "3.9.7"
    },
    "colab": {
      "provenance": [],
      "toc_visible": true,
      "include_colab_link": true
    }
  },
  "nbformat": 4,
  "nbformat_minor": 5
}